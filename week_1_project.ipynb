{
  "nbformat": 4,
  "nbformat_minor": 0,
  "metadata": {
    "colab": {
      "provenance": [],
      "authorship_tag": "ABX9TyOqfmulKh6SmwMy+YFwM0ok",
      "include_colab_link": true
    },
    "kernelspec": {
      "name": "python3",
      "display_name": "Python 3"
    },
    "language_info": {
      "name": "python"
    }
  },
  "cells": [
    {
      "cell_type": "markdown",
      "metadata": {
        "id": "view-in-github",
        "colab_type": "text"
      },
      "source": [
        "<a href=\"https://colab.research.google.com/github/mukami2024/data-analysis/blob/main/week_1_project.ipynb\" target=\"_parent\"><img src=\"https://colab.research.google.com/assets/colab-badge.svg\" alt=\"Open In Colab\"/></a>"
      ]
    },
    {
      "cell_type": "code",
      "source": [
        "%load_ext sql"
      ],
      "metadata": {
        "id": "scHAtNgH3a7Z"
      },
      "execution_count": null,
      "outputs": []
    },
    {
      "cell_type": "code",
      "source": [
        "%%sql sqlite:///ABC_DATA"
      ],
      "metadata": {
        "id": "G3Q8D8zm3gNH"
      },
      "execution_count": null,
      "outputs": []
    },
    {
      "cell_type": "code",
      "source": [
        "%%sql CREATE TABLE customers(\n",
        "    customer_id INT(20),\n",
        "    first_name VARCHAR(25),\n",
        "    last_name VARCHAR(25),\n",
        "    email VARCHAR(100)\n",
        "\n",
        ");"
      ],
      "metadata": {
        "id": "ZnXd18dAB1lj",
        "colab": {
          "base_uri": "https://localhost:8080/"
        },
        "outputId": "58494d75-8979-46fb-cc0d-4d11fb95ae3c"
      },
      "execution_count": 26,
      "outputs": [
        {
          "output_type": "stream",
          "name": "stdout",
          "text": [
            " * sqlite:///ABC_DATA\n",
            "Done.\n"
          ]
        },
        {
          "output_type": "execute_result",
          "data": {
            "text/plain": [
              "[]"
            ]
          },
          "metadata": {},
          "execution_count": 26
        }
      ]
    },
    {
      "cell_type": "code",
      "source": [
        "%%sql INSERT INTO customers VALUES(\"284993\", \"Robert\" , \"Wachira\" , \"robertwachira@gmail.com\");"
      ],
      "metadata": {
        "colab": {
          "base_uri": "https://localhost:8080/"
        },
        "id": "Tr2xdDi0CkYt",
        "outputId": "dacb5a99-7323-4999-eba2-4acaa90369b0"
      },
      "execution_count": 30,
      "outputs": [
        {
          "output_type": "stream",
          "name": "stdout",
          "text": [
            " * sqlite:///ABC_DATA\n",
            "1 rows affected.\n"
          ]
        },
        {
          "output_type": "execute_result",
          "data": {
            "text/plain": [
              "[]"
            ]
          },
          "metadata": {},
          "execution_count": 30
        }
      ]
    },
    {
      "cell_type": "code",
      "source": [
        "%%sql INSERT INTO customers VALUES( \" 345282\" , \" Kelsey\" , \" Wangui\" , \" wanguikelsey@gmail.com\");"
      ],
      "metadata": {
        "colab": {
          "base_uri": "https://localhost:8080/"
        },
        "id": "oiMSteOLDPM9",
        "outputId": "5757d55d-9055-46c0-e5d2-7d176d7da323"
      },
      "execution_count": 31,
      "outputs": [
        {
          "output_type": "stream",
          "name": "stdout",
          "text": [
            " * sqlite:///ABC_DATA\n",
            "1 rows affected.\n"
          ]
        },
        {
          "output_type": "execute_result",
          "data": {
            "text/plain": [
              "[]"
            ]
          },
          "metadata": {},
          "execution_count": 31
        }
      ]
    },
    {
      "cell_type": "code",
      "source": [
        "%%sql INSERT INTO customers VALUES (\"25681817\" , \" Alvin\" , \"Kimani\" , \"kimanialvin@gmail.com\");"
      ],
      "metadata": {
        "colab": {
          "base_uri": "https://localhost:8080/"
        },
        "id": "t8z8xFYDD6T4",
        "outputId": "24ebd0ed-11c3-44ee-beef-0969b0199a55"
      },
      "execution_count": 32,
      "outputs": [
        {
          "output_type": "stream",
          "name": "stdout",
          "text": [
            " * sqlite:///ABC_DATA\n",
            "1 rows affected.\n"
          ]
        },
        {
          "output_type": "execute_result",
          "data": {
            "text/plain": [
              "[]"
            ]
          },
          "metadata": {},
          "execution_count": 32
        }
      ]
    },
    {
      "cell_type": "code",
      "source": [
        "%%sql SELECT * FROM customers"
      ],
      "metadata": {
        "colab": {
          "base_uri": "https://localhost:8080/",
          "height": 155
        },
        "id": "VmQNkJyiEXKH",
        "outputId": "5d30ed66-613c-4789-84c5-895c10be468f"
      },
      "execution_count": 34,
      "outputs": [
        {
          "output_type": "stream",
          "name": "stdout",
          "text": [
            " * sqlite:///ABC_DATA\n",
            "Done.\n"
          ]
        },
        {
          "output_type": "execute_result",
          "data": {
            "text/plain": [
              "[(284993, 'Robert', 'Wachira', '@robertwachiragmail.com'),\n",
              " (284993, 'Robert', 'Wachira', 'robertwachira@gmail.com'),\n",
              " (345282, ' Kelsey', ' Wangui', ' wanguikelsey@gmail.com'),\n",
              " (25681817, ' Alvin', 'Kimani', 'kimanialvin@gmail.com')]"
            ],
            "text/html": [
              "<table>\n",
              "    <thead>\n",
              "        <tr>\n",
              "            <th>customer_id</th>\n",
              "            <th>first_name</th>\n",
              "            <th>last_name</th>\n",
              "            <th>email</th>\n",
              "        </tr>\n",
              "    </thead>\n",
              "    <tbody>\n",
              "        <tr>\n",
              "            <td>284993</td>\n",
              "            <td>Robert</td>\n",
              "            <td>Wachira</td>\n",
              "            <td>@robertwachiragmail.com</td>\n",
              "        </tr>\n",
              "        <tr>\n",
              "            <td>284993</td>\n",
              "            <td>Robert</td>\n",
              "            <td>Wachira</td>\n",
              "            <td>robertwachira@gmail.com</td>\n",
              "        </tr>\n",
              "        <tr>\n",
              "            <td>345282</td>\n",
              "            <td> Kelsey</td>\n",
              "            <td> Wangui</td>\n",
              "            <td> wanguikelsey@gmail.com</td>\n",
              "        </tr>\n",
              "        <tr>\n",
              "            <td>25681817</td>\n",
              "            <td> Alvin</td>\n",
              "            <td>Kimani</td>\n",
              "            <td>kimanialvin@gmail.com</td>\n",
              "        </tr>\n",
              "    </tbody>\n",
              "</table>"
            ]
          },
          "metadata": {},
          "execution_count": 34
        }
      ]
    },
    {
      "cell_type": "code",
      "source": [
        "%%sql CREATE TABLE products(\n",
        "    product_id INT(20),\n",
        "    product_name VARCHAR(20),\n",
        "    price INT(20)\n",
        ");"
      ],
      "metadata": {
        "colab": {
          "base_uri": "https://localhost:8080/"
        },
        "id": "CQoxl1pA3qRj",
        "outputId": "4d4f3354-ea22-4c92-d7b1-d8466b479c9c"
      },
      "execution_count": null,
      "outputs": [
        {
          "output_type": "stream",
          "name": "stdout",
          "text": [
            " * sqlite:///ABC_DATA\n",
            "Done.\n"
          ]
        },
        {
          "output_type": "execute_result",
          "data": {
            "text/plain": [
              "[]"
            ]
          },
          "metadata": {},
          "execution_count": 9
        }
      ]
    },
    {
      "cell_type": "code",
      "source": [
        "%%sql INSERT INTO products VALUES (\"001\" , \"aquafresh\" , \"100\");\n"
      ],
      "metadata": {
        "colab": {
          "base_uri": "https://localhost:8080/"
        },
        "id": "mpB8J-n-6fsu",
        "outputId": "d04f5d5d-19fc-40b8-e94d-0ea35be9603d"
      },
      "execution_count": null,
      "outputs": [
        {
          "output_type": "stream",
          "name": "stdout",
          "text": [
            " * sqlite:///ABC_DATA\n",
            "1 rows affected.\n"
          ]
        },
        {
          "output_type": "execute_result",
          "data": {
            "text/plain": [
              "[]"
            ]
          },
          "metadata": {},
          "execution_count": 10
        }
      ]
    },
    {
      "cell_type": "code",
      "source": [
        "%%sql INSERT INTO products VALUES (\"002\" , \" listerine\" , \"500\");"
      ],
      "metadata": {
        "colab": {
          "base_uri": "https://localhost:8080/"
        },
        "id": "ZRJk8bON7tnC",
        "outputId": "3e705478-4f9a-4a86-dbc9-bb80f976ad22"
      },
      "execution_count": null,
      "outputs": [
        {
          "output_type": "stream",
          "name": "stdout",
          "text": [
            " * sqlite:///ABC_DATA\n",
            "1 rows affected.\n"
          ]
        },
        {
          "output_type": "execute_result",
          "data": {
            "text/plain": [
              "[]"
            ]
          },
          "metadata": {},
          "execution_count": 11
        }
      ]
    },
    {
      "cell_type": "code",
      "source": [
        "%%sql INSERT INTO products VALUES (\"003\" , \" toothbrush\" , \"50\");"
      ],
      "metadata": {
        "colab": {
          "base_uri": "https://localhost:8080/"
        },
        "id": "BRJ1wHH-8Dd5",
        "outputId": "35621253-3ef0-4ab1-c6f8-b1504aa2dc2c"
      },
      "execution_count": null,
      "outputs": [
        {
          "output_type": "stream",
          "name": "stdout",
          "text": [
            " * sqlite:///ABC_DATA\n",
            "1 rows affected.\n"
          ]
        },
        {
          "output_type": "execute_result",
          "data": {
            "text/plain": [
              "[]"
            ]
          },
          "metadata": {},
          "execution_count": 12
        }
      ]
    },
    {
      "cell_type": "code",
      "source": [
        "%%sql INSERT INTO products VALUES (\"004\" , \" facemask\" , \"200\");"
      ],
      "metadata": {
        "colab": {
          "base_uri": "https://localhost:8080/"
        },
        "id": "0wVfOW2x8W4p",
        "outputId": "1ba5e6b3-14c9-4a23-b1a4-b9e7dbd13d82"
      },
      "execution_count": null,
      "outputs": [
        {
          "output_type": "stream",
          "name": "stdout",
          "text": [
            " * sqlite:///ABC_DATA\n",
            "1 rows affected.\n"
          ]
        },
        {
          "output_type": "execute_result",
          "data": {
            "text/plain": [
              "[]"
            ]
          },
          "metadata": {},
          "execution_count": 13
        }
      ]
    },
    {
      "cell_type": "code",
      "source": [
        "%%sql INSERT INTO products VALUES (\"005\" , \" cleanser\" , \"1800\");\n"
      ],
      "metadata": {
        "colab": {
          "base_uri": "https://localhost:8080/"
        },
        "id": "550RxW3x8uCI",
        "outputId": "30a0ae51-35af-4aeb-cde5-4bdad2b0a943"
      },
      "execution_count": null,
      "outputs": [
        {
          "output_type": "stream",
          "name": "stdout",
          "text": [
            " * sqlite:///ABC_DATA\n",
            "1 rows affected.\n"
          ]
        },
        {
          "output_type": "execute_result",
          "data": {
            "text/plain": [
              "[]"
            ]
          },
          "metadata": {},
          "execution_count": 14
        }
      ]
    },
    {
      "cell_type": "code",
      "source": [
        "%%sql INSERT INTO products VALUES (\"006\" , \" moisturizer\" , \"2000\");"
      ],
      "metadata": {
        "colab": {
          "base_uri": "https://localhost:8080/"
        },
        "id": "YpaPLDRt89q7",
        "outputId": "1c251899-6050-45b6-f83e-bcc15e2d5e6d"
      },
      "execution_count": null,
      "outputs": [
        {
          "output_type": "stream",
          "name": "stdout",
          "text": [
            " * sqlite:///ABC_DATA\n",
            "1 rows affected.\n"
          ]
        },
        {
          "output_type": "execute_result",
          "data": {
            "text/plain": [
              "[]"
            ]
          },
          "metadata": {},
          "execution_count": 15
        }
      ]
    },
    {
      "cell_type": "code",
      "source": [
        "%%sql SELECT * FROM products"
      ],
      "metadata": {
        "colab": {
          "base_uri": "https://localhost:8080/",
          "height": 198
        },
        "id": "-SizW3359Nuv",
        "outputId": "d23533d8-bb99-4cff-b6a1-36f1667f7705"
      },
      "execution_count": null,
      "outputs": [
        {
          "output_type": "stream",
          "name": "stdout",
          "text": [
            " * sqlite:///ABC_DATA\n",
            "Done.\n"
          ]
        },
        {
          "output_type": "execute_result",
          "data": {
            "text/plain": [
              "[(1, 'aquafresh', 100),\n",
              " (2, ' listerine', 500),\n",
              " (3, ' toothbrush', 50),\n",
              " (4, ' facemask', 200),\n",
              " (5, ' cleanser', 1800),\n",
              " (6, ' moisturizer', 2000)]"
            ],
            "text/html": [
              "<table>\n",
              "    <thead>\n",
              "        <tr>\n",
              "            <th>product_id</th>\n",
              "            <th>product_name</th>\n",
              "            <th>price</th>\n",
              "        </tr>\n",
              "    </thead>\n",
              "    <tbody>\n",
              "        <tr>\n",
              "            <td>1</td>\n",
              "            <td>aquafresh</td>\n",
              "            <td>100</td>\n",
              "        </tr>\n",
              "        <tr>\n",
              "            <td>2</td>\n",
              "            <td> listerine</td>\n",
              "            <td>500</td>\n",
              "        </tr>\n",
              "        <tr>\n",
              "            <td>3</td>\n",
              "            <td> toothbrush</td>\n",
              "            <td>50</td>\n",
              "        </tr>\n",
              "        <tr>\n",
              "            <td>4</td>\n",
              "            <td> facemask</td>\n",
              "            <td>200</td>\n",
              "        </tr>\n",
              "        <tr>\n",
              "            <td>5</td>\n",
              "            <td> cleanser</td>\n",
              "            <td>1800</td>\n",
              "        </tr>\n",
              "        <tr>\n",
              "            <td>6</td>\n",
              "            <td> moisturizer</td>\n",
              "            <td>2000</td>\n",
              "        </tr>\n",
              "    </tbody>\n",
              "</table>"
            ]
          },
          "metadata": {},
          "execution_count": 16
        }
      ]
    },
    {
      "cell_type": "code",
      "source": [
        "%%sql CREATE TABLE orders(\n",
        "    order_id INT(20),\n",
        "    customer_id INT(20),\n",
        "    order_date\n",
        ");"
      ],
      "metadata": {
        "colab": {
          "base_uri": "https://localhost:8080/"
        },
        "id": "YfWQdKep9-pe",
        "outputId": "7566b7a5-ca23-47a4-cc36-c4f22206541c"
      },
      "execution_count": null,
      "outputs": [
        {
          "output_type": "stream",
          "name": "stdout",
          "text": [
            " * sqlite:///ABC_DATA\n",
            "Done.\n"
          ]
        },
        {
          "output_type": "execute_result",
          "data": {
            "text/plain": [
              "[]"
            ]
          },
          "metadata": {},
          "execution_count": 18
        }
      ]
    },
    {
      "cell_type": "code",
      "source": [
        "%%sql INSERT INTO orders VALUES(\" 10346782\" , \"37\" , \"24/02/2024\");"
      ],
      "metadata": {
        "colab": {
          "base_uri": "https://localhost:8080/"
        },
        "id": "bUAMlkcE-yqH",
        "outputId": "4971220d-d909-46a5-a25f-ac691348bccd"
      },
      "execution_count": null,
      "outputs": [
        {
          "output_type": "stream",
          "name": "stdout",
          "text": [
            " * sqlite:///ABC_DATA\n",
            "1 rows affected.\n"
          ]
        },
        {
          "output_type": "execute_result",
          "data": {
            "text/plain": [
              "[]"
            ]
          },
          "metadata": {},
          "execution_count": 19
        }
      ]
    },
    {
      "cell_type": "code",
      "source": [
        "%%sql INSERT INTO orders VALUES (\" 10345674\" , \"38\" , \"24/02/2024\");"
      ],
      "metadata": {
        "colab": {
          "base_uri": "https://localhost:8080/"
        },
        "id": "A7t2kWiX_QE1",
        "outputId": "49c976dc-7405-4794-f8c5-e95aab458038"
      },
      "execution_count": null,
      "outputs": [
        {
          "output_type": "stream",
          "name": "stdout",
          "text": [
            " * sqlite:///ABC_DATA\n",
            "1 rows affected.\n"
          ]
        },
        {
          "output_type": "execute_result",
          "data": {
            "text/plain": [
              "[]"
            ]
          },
          "metadata": {},
          "execution_count": 22
        }
      ]
    },
    {
      "cell_type": "code",
      "source": [
        "%%sql SELECT * FROM orders"
      ],
      "metadata": {
        "colab": {
          "base_uri": "https://localhost:8080/",
          "height": 114
        },
        "id": "s4HDlpEVEpDW",
        "outputId": "4c50304f-aaa3-4a17-a53e-1fe5fd4121ce"
      },
      "execution_count": 35,
      "outputs": [
        {
          "output_type": "stream",
          "name": "stdout",
          "text": [
            " * sqlite:///ABC_DATA\n",
            "Done.\n"
          ]
        },
        {
          "output_type": "execute_result",
          "data": {
            "text/plain": [
              "[(10346782, 37, '24/02/2024'), (10345674, 38, '24/02/2024')]"
            ],
            "text/html": [
              "<table>\n",
              "    <thead>\n",
              "        <tr>\n",
              "            <th>order_id</th>\n",
              "            <th>customer_id</th>\n",
              "            <th>order_date</th>\n",
              "        </tr>\n",
              "    </thead>\n",
              "    <tbody>\n",
              "        <tr>\n",
              "            <td>10346782</td>\n",
              "            <td>37</td>\n",
              "            <td>24/02/2024</td>\n",
              "        </tr>\n",
              "        <tr>\n",
              "            <td>10345674</td>\n",
              "            <td>38</td>\n",
              "            <td>24/02/2024</td>\n",
              "        </tr>\n",
              "    </tbody>\n",
              "</table>"
            ]
          },
          "metadata": {},
          "execution_count": 35
        }
      ]
    },
    {
      "cell_type": "code",
      "source": [
        "%%sql CREATE TABLE order_items(\n",
        "    order_id INT(20),\n",
        "    product_id INT(20),\n",
        "    quantity INT(20)\n",
        ");"
      ],
      "metadata": {
        "colab": {
          "base_uri": "https://localhost:8080/"
        },
        "id": "FFaPUJXxAFmT",
        "outputId": "cce1dd76-d99c-4292-f81f-97b733901b66"
      },
      "execution_count": null,
      "outputs": [
        {
          "output_type": "stream",
          "name": "stdout",
          "text": [
            " * sqlite:///ABC_DATA\n",
            "Done.\n"
          ]
        },
        {
          "output_type": "execute_result",
          "data": {
            "text/plain": [
              "[]"
            ]
          },
          "metadata": {},
          "execution_count": 23
        }
      ]
    },
    {
      "cell_type": "code",
      "source": [
        "%%sql INSERT INTO order_items VALUES(\" 10234515008\" , \" 35674\" , 20);"
      ],
      "metadata": {
        "colab": {
          "base_uri": "https://localhost:8080/"
        },
        "id": "kGQaJs64A452",
        "outputId": "e468fb7e-079a-4cf3-bd6e-3d2b489f245b"
      },
      "execution_count": null,
      "outputs": [
        {
          "output_type": "stream",
          "name": "stdout",
          "text": [
            " * sqlite:///ABC_DATA\n",
            "1 rows affected.\n"
          ]
        },
        {
          "output_type": "execute_result",
          "data": {
            "text/plain": [
              "[]"
            ]
          },
          "metadata": {},
          "execution_count": 24
        }
      ]
    },
    {
      "cell_type": "code",
      "source": [
        "%%sql INSERT INTO order_items VALUES(\" 102345672100\" , \"45637\" , \"12\");"
      ],
      "metadata": {
        "colab": {
          "base_uri": "https://localhost:8080/"
        },
        "id": "I1WvoqsbBaWq",
        "outputId": "5b43a6f0-4ff4-4202-dccb-35f936b98464"
      },
      "execution_count": null,
      "outputs": [
        {
          "output_type": "stream",
          "name": "stdout",
          "text": [
            " * sqlite:///ABC_DATA\n",
            "1 rows affected.\n"
          ]
        },
        {
          "output_type": "execute_result",
          "data": {
            "text/plain": [
              "[]"
            ]
          },
          "metadata": {},
          "execution_count": 25
        }
      ]
    },
    {
      "cell_type": "code",
      "source": [
        "%%sql SELECT* FROM order_items"
      ],
      "metadata": {
        "colab": {
          "base_uri": "https://localhost:8080/",
          "height": 114
        },
        "id": "ty38h6mxEyvx",
        "outputId": "abb291f2-0d92-4131-d707-a83c5fad172c"
      },
      "execution_count": 36,
      "outputs": [
        {
          "output_type": "stream",
          "name": "stdout",
          "text": [
            " * sqlite:///ABC_DATA\n",
            "Done.\n"
          ]
        },
        {
          "output_type": "execute_result",
          "data": {
            "text/plain": [
              "[(10234515008, 35674, 20), (102345672100, 45637, 12)]"
            ],
            "text/html": [
              "<table>\n",
              "    <thead>\n",
              "        <tr>\n",
              "            <th>order_id</th>\n",
              "            <th>product_id</th>\n",
              "            <th>quantity</th>\n",
              "        </tr>\n",
              "    </thead>\n",
              "    <tbody>\n",
              "        <tr>\n",
              "            <td>10234515008</td>\n",
              "            <td>35674</td>\n",
              "            <td>20</td>\n",
              "        </tr>\n",
              "        <tr>\n",
              "            <td>102345672100</td>\n",
              "            <td>45637</td>\n",
              "            <td>12</td>\n",
              "        </tr>\n",
              "    </tbody>\n",
              "</table>"
            ]
          },
          "metadata": {},
          "execution_count": 36
        }
      ]
    }
  ]
}